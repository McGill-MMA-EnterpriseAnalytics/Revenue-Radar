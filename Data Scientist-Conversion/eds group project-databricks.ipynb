{
 "cells": [
  {
   "cell_type": "code",
   "execution_count": 0,
   "metadata": {
    "application/vnd.databricks.v1+cell": {
     "cellMetadata": {
      "byteLimit": 2048000,
      "rowLimit": 10000
     },
     "inputWidgets": {},
     "nuid": "8ebc2dc3-8731-465f-84d8-da32334e0582",
     "showTitle": false,
     "title": ""
    }
   },
   "outputs": [
    {
     "output_type": "stream",
     "name": "stdout",
     "output_type": "stream",
     "text": [
      "Python interpreter will be restarted.\nRequirement already satisfied: pandas in /databricks/python3/lib/python3.9/site-packages (1.4.2)\nRequirement already satisfied: numpy in /databricks/python3/lib/python3.9/site-packages (1.21.5)\nRequirement already satisfied: seaborn in /databricks/python3/lib/python3.9/site-packages (0.11.2)\nRequirement already satisfied: matplotlib in /databricks/python3/lib/python3.9/site-packages (3.5.1)\nRequirement already satisfied: scikit-learn in /databricks/python3/lib/python3.9/site-packages (1.0.2)\nRequirement already satisfied: scipy in /databricks/python3/lib/python3.9/site-packages (1.7.3)\nCollecting xgboost\n  Using cached xgboost-2.0.3-py3-none-manylinux2014_x86_64.whl (297.1 MB)\nRequirement already satisfied: yellowbrick in /local_disk0/.ephemeral_nfs/envs/pythonEnv-b860c711-ad3c-4fa7-a9ef-b7b1b9883c6a/lib/python3.9/site-packages (1.5)\nCollecting scikit-optimize\n  Using cached scikit_optimize-0.10.1-py2.py3-none-any.whl (107 kB)\nCollecting imblearn\n  Using cached imblearn-0.0-py2.py3-none-any.whl (1.9 kB)\nCollecting optuna\n  Using cached optuna-3.6.1-py3-none-any.whl (380 kB)\nCollecting mlflow\n  Downloading mlflow-2.12.1-py3-none-any.whl (20.2 MB)\nRequirement already satisfied: python-dateutil>=2.8.1 in /databricks/python3/lib/python3.9/site-packages (from pandas) (2.8.2)\nRequirement already satisfied: pytz>=2020.1 in /databricks/python3/lib/python3.9/site-packages (from pandas) (2021.3)\nRequirement already satisfied: packaging>=20.0 in /databricks/python3/lib/python3.9/site-packages (from matplotlib) (21.3)\nRequirement already satisfied: fonttools>=4.22.0 in /databricks/python3/lib/python3.9/site-packages (from matplotlib) (4.25.0)\nRequirement already satisfied: kiwisolver>=1.0.1 in /databricks/python3/lib/python3.9/site-packages (from matplotlib) (1.3.2)\nRequirement already satisfied: pyparsing>=2.2.1 in /databricks/python3/lib/python3.9/site-packages (from matplotlib) (3.0.4)\nRequirement already satisfied: cycler>=0.10 in /databricks/python3/lib/python3.9/site-packages (from matplotlib) (0.11.0)\nRequirement already satisfied: pillow>=6.2.0 in /databricks/python3/lib/python3.9/site-packages (from matplotlib) (9.0.1)\nRequirement already satisfied: threadpoolctl>=2.0.0 in /databricks/python3/lib/python3.9/site-packages (from scikit-learn) (2.2.0)\nRequirement already satisfied: joblib>=0.11 in /databricks/python3/lib/python3.9/site-packages (from scikit-learn) (1.1.1)\nRequirement already satisfied: pyaml>=16.9 in /local_disk0/.ephemeral_nfs/envs/pythonEnv-b860c711-ad3c-4fa7-a9ef-b7b1b9883c6a/lib/python3.9/site-packages (from scikit-optimize) (24.4.0)\nRequirement already satisfied: imbalanced-learn in /local_disk0/.ephemeral_nfs/envs/pythonEnv-b860c711-ad3c-4fa7-a9ef-b7b1b9883c6a/lib/python3.9/site-packages (from imblearn) (0.12.2)\nRequirement already satisfied: alembic>=1.5.0 in /local_disk0/.ephemeral_nfs/envs/pythonEnv-b860c711-ad3c-4fa7-a9ef-b7b1b9883c6a/lib/python3.9/site-packages (from optuna) (1.13.1)\nRequirement already satisfied: tqdm in /local_disk0/.ephemeral_nfs/envs/pythonEnv-b860c711-ad3c-4fa7-a9ef-b7b1b9883c6a/lib/python3.9/site-packages (from optuna) (4.66.2)\nRequirement already satisfied: sqlalchemy>=1.3.0 in /local_disk0/.ephemeral_nfs/envs/pythonEnv-b860c711-ad3c-4fa7-a9ef-b7b1b9883c6a/lib/python3.9/site-packages (from optuna) (2.0.29)\nRequirement already satisfied: colorlog in /local_disk0/.ephemeral_nfs/envs/pythonEnv-b860c711-ad3c-4fa7-a9ef-b7b1b9883c6a/lib/python3.9/site-packages (from optuna) (6.8.2)\nRequirement already satisfied: PyYAML in /local_disk0/.ephemeral_nfs/envs/pythonEnv-b860c711-ad3c-4fa7-a9ef-b7b1b9883c6a/lib/python3.9/site-packages (from optuna) (6.0.1)\nCollecting docker<8,>=4.0.0\n  Downloading docker-7.0.0-py3-none-any.whl (147 kB)\nCollecting gitpython<4,>=3.1.9\n  Downloading GitPython-3.1.43-py3-none-any.whl (207 kB)\nCollecting graphene<4\n  Downloading graphene-3.3-py2.py3-none-any.whl (128 kB)\nRequirement already satisfied: pyarrow<16,>=4.0.0 in /databricks/python3/lib/python3.9/site-packages (from mlflow) (7.0.0)\nCollecting cloudpickle<4\n  Downloading cloudpickle-3.0.0-py3-none-any.whl (20 kB)\nRequirement already satisfied: requests<3,>=2.17.3 in /databricks/python3/lib/python3.9/site-packages (from mlflow) (2.27.1)\nRequirement already satisfied: Jinja2<4,>=2.11 in /databricks/python3/lib/python3.9/site-packages (from mlflow) (2.11.3)\nCollecting importlib-metadata!=4.7.0,<8,>=3.7.0\n  Downloading importlib_metadata-7.1.0-py3-none-any.whl (24 kB)\nRequirement already satisfied: entrypoints<1 in /databricks/python3/lib/python3.9/site-packages (from mlflow) (0.4)\nRequirement already satisfied: protobuf<6,>=3.12.0 in /databricks/python3/lib/python3.9/site-packages (from mlflow) (3.19.4)\nCollecting markdown<4,>=3.3\n  Downloading Markdown-3.6-py3-none-any.whl (105 kB)\nCollecting querystring-parser<2\n  Downloading querystring_parser-1.2.4-py2.py3-none-any.whl (7.9 kB)\nCollecting gunicorn<22\n  Downloading gunicorn-21.2.0-py3-none-any.whl (80 kB)\nCollecting Flask<4\n  Downloading flask-3.0.3-py3-none-any.whl (101 kB)\nCollecting sqlparse<1,>=0.4.0\n  Downloading sqlparse-0.5.0-py3-none-any.whl (43 kB)\nRequirement already satisfied: click<9,>=7.0 in /databricks/python3/lib/python3.9/site-packages (from mlflow) (8.0.4)\nRequirement already satisfied: Mako in /local_disk0/.ephemeral_nfs/envs/pythonEnv-b860c711-ad3c-4fa7-a9ef-b7b1b9883c6a/lib/python3.9/site-packages (from alembic>=1.5.0->optuna) (1.3.3)\nRequirement already satisfied: typing-extensions>=4 in /local_disk0/.ephemeral_nfs/envs/pythonEnv-b860c711-ad3c-4fa7-a9ef-b7b1b9883c6a/lib/python3.9/site-packages (from alembic>=1.5.0->optuna) (4.11.0)\nRequirement already satisfied: urllib3>=1.26.0 in /databricks/python3/lib/python3.9/site-packages (from docker<8,>=4.0.0->mlflow) (1.26.9)\nCollecting Werkzeug>=3.0.0\n  Downloading werkzeug-3.0.2-py3-none-any.whl (226 kB)\nCollecting click<9,>=7.0\n  Downloading click-8.1.7-py3-none-any.whl (97 kB)\nCollecting blinker>=1.6.2\n  Downloading blinker-1.7.0-py3-none-any.whl (13 kB)\nCollecting Jinja2<4,>=2.11\n  Downloading Jinja2-3.1.3-py3-none-any.whl (133 kB)\nCollecting itsdangerous>=2.1.2\n  Downloading itsdangerous-2.2.0-py3-none-any.whl (16 kB)\nCollecting gitdb<5,>=4.0.1\n  Downloading gitdb-4.0.11-py3-none-any.whl (62 kB)\nCollecting smmap<6,>=3.0.1\n  Downloading smmap-5.0.1-py3-none-any.whl (24 kB)\nCollecting aniso8601<10,>=8\n  Downloading aniso8601-9.0.1-py2.py3-none-any.whl (52 kB)\nCollecting graphql-relay<3.3,>=3.1\n  Downloading graphql_relay-3.2.0-py3-none-any.whl (16 kB)\nCollecting graphql-core<3.3,>=3.1\n  Downloading graphql_core-3.2.3-py3-none-any.whl (202 kB)\nCollecting zipp>=0.5\n  Downloading zipp-3.18.1-py3-none-any.whl (8.2 kB)\nRequirement already satisfied: MarkupSafe>=2.0 in /databricks/python3/lib/python3.9/site-packages (from Jinja2<4,>=2.11->mlflow) (2.0.1)\nRequirement already satisfied: six>=1.5 in /databricks/python3/lib/python3.9/site-packages (from python-dateutil>=2.8.1->pandas) (1.16.0)\nRequirement already satisfied: idna<4,>=2.5 in /databricks/python3/lib/python3.9/site-packages (from requests<3,>=2.17.3->mlflow) (3.3)\nRequirement already satisfied: charset-normalizer~=2.0.0 in /databricks/python3/lib/python3.9/site-packages (from requests<3,>=2.17.3->mlflow) (2.0.4)\nRequirement already satisfied: certifi>=2017.4.17 in /databricks/python3/lib/python3.9/site-packages (from requests<3,>=2.17.3->mlflow) (2021.10.8)\nRequirement already satisfied: greenlet!=0.4.17 in /local_disk0/.ephemeral_nfs/envs/pythonEnv-b860c711-ad3c-4fa7-a9ef-b7b1b9883c6a/lib/python3.9/site-packages (from sqlalchemy>=1.3.0->optuna) (3.0.3)\nCollecting MarkupSafe>=2.0\n  Downloading MarkupSafe-2.1.5-cp39-cp39-manylinux_2_17_x86_64.manylinux2014_x86_64.whl (25 kB)\nInstalling collected packages: zipp, smmap, MarkupSafe, graphql-core, Werkzeug, Jinja2, itsdangerous, importlib-metadata, graphql-relay, gitdb, click, blinker, aniso8601, sqlparse, querystring-parser, markdown, gunicorn, graphene, gitpython, Flask, docker, cloudpickle, xgboost, scikit-optimize, optuna, mlflow, imblearn\n  Attempting uninstall: MarkupSafe\n    Found existing installation: MarkupSafe 2.0.1\n    Not uninstalling markupsafe at /databricks/python3/lib/python3.9/site-packages, outside environment /local_disk0/.ephemeral_nfs/envs/pythonEnv-b860c711-ad3c-4fa7-a9ef-b7b1b9883c6a\n    Can't uninstall 'MarkupSafe'. No files were found to uninstall.\n  Attempting uninstall: Jinja2\n    Found existing installation: Jinja2 2.11.3\n    Not uninstalling jinja2 at /databricks/python3/lib/python3.9/site-packages, outside environment /local_disk0/.ephemeral_nfs/envs/pythonEnv-b860c711-ad3c-4fa7-a9ef-b7b1b9883c6a\n    Can't uninstall 'Jinja2'. No files were found to uninstall.\n  Attempting uninstall: click\n    Found existing installation: click 8.0.4\n    Not uninstalling click at /databricks/python3/lib/python3.9/site-packages, outside environment /local_disk0/.ephemeral_nfs/envs/pythonEnv-b860c711-ad3c-4fa7-a9ef-b7b1b9883c6a\n    Can't uninstall 'click'. No files were found to uninstall.\nSuccessfully installed Flask-3.0.3 Jinja2-3.1.3 MarkupSafe-2.1.5 Werkzeug-3.0.2 aniso8601-9.0.1 blinker-1.7.0 click-8.1.7 cloudpickle-3.0.0 docker-7.0.0 gitdb-4.0.11 gitpython-3.1.43 graphene-3.3 graphql-core-3.2.3 graphql-relay-3.2.0 gunicorn-21.2.0 imblearn-0.0 importlib-metadata-7.1.0 itsdangerous-2.2.0 markdown-3.6 mlflow-2.12.1 optuna-3.6.1 querystring-parser-1.2.4 scikit-optimize-0.10.1 smmap-5.0.1 sqlparse-0.5.0 xgboost-2.0.3 zipp-3.18.1\nPython interpreter will be restarted.\n"
     ]
    }
   ],
   "source": [
    "#pip install pandas numpy seaborn matplotlib scikit-learn scipy xgboost yellowbrick scikit-optimize imblearn optuna mlflow\n"
   ]
  },
  {
   "cell_type": "code",
   "execution_count": 0,
   "metadata": {
    "application/vnd.databricks.v1+cell": {
     "cellMetadata": {
      "byteLimit": 2048000,
      "rowLimit": 10000
     },
     "inputWidgets": {},
     "nuid": "fda7a488-3ea4-478d-9718-738addbbcf26",
     "showTitle": false,
     "title": ""
    }
   },
   "outputs": [
    {
     "output_type": "display_data",
     "data": {
      "application/vnd.databricks.v1+bamboolib_hint": "{\"pd.DataFrames\": [], \"version\": \"0.0.1\"}",
      "text/plain": []
     },
     "metadata": {},
     "output_type": "display_data"
    }
   ],
   "source": [
    "import pandas as pd\n",
    "import numpy as np\n",
    "import seaborn as sns\n",
    "import matplotlib.pyplot as plt\n",
    "%matplotlib inline\n",
    "\n",
    "from sklearn.model_selection import cross_val_score, train_test_split, GridSearchCV, RandomizedSearchCV, StratifiedKFold\n",
    "from sklearn.metrics import accuracy_score, classification_report, confusion_matrix\n",
    "from sklearn.metrics import  precision_recall_curve, average_precision_score,f1_score, recall_score, precision_score,fbeta_score,make_scorer\n",
    "from sklearn.metrics import roc_curve, roc_auc_score, ConfusionMatrixDisplay\n",
    "from skopt import BayesSearchCV\n",
    "from skopt.space import Real, Categorical, Integer\n",
    "from sklearn.feature_selection import RFE\n",
    "\n",
    "from sklearn.decomposition import PCA\n",
    "from sklearn.cluster import KMeans\n",
    "from sklearn.preprocessing import StandardScaler\n",
    "\n",
    "import warnings\n",
    "warnings.filterwarnings('ignore')\n",
    "\n",
    "from sklearn.linear_model import LogisticRegression\n",
    "import xgboost\n",
    "from sklearn.ensemble import RandomForestClassifier, IsolationForest, StackingClassifier, AdaBoostClassifier\n",
    "from sklearn.tree import DecisionTreeClassifier\n",
    "from sklearn.neighbors import KNeighborsClassifier\n",
    "\n",
    "from yellowbrick.model_selection import LearningCurve\n",
    "from yellowbrick.classifier import ClassPredictionError\n"
   ]
  },
  {
   "cell_type": "code",
   "execution_count": 0,
   "metadata": {
    "application/vnd.databricks.v1+cell": {
     "cellMetadata": {
      "byteLimit": 2048000,
      "rowLimit": 10000
     },
     "inputWidgets": {},
     "nuid": "88a6b04e-c9e0-42cb-b7f9-a6f3bc2cfc03",
     "showTitle": false,
     "title": ""
    }
   },
   "outputs": [],
   "source": [
    "file_location = \"/FileStore/tables/train_df-3.csv\"\n",
    "dbutils.fs.cp(\"/FileStore/tables/train_df-3.csv\", \"file:///tmp/train_df-3.csv\") \n",
    "\n",
    "# Read the CSV into a pandas DataFrame \n",
    "df = pd.read_csv(\"file:///tmp/train_df-3.csv\")"
   ]
  },
  {
   "cell_type": "code",
   "execution_count": 0,
   "metadata": {
    "application/vnd.databricks.v1+cell": {
     "cellMetadata": {
      "byteLimit": 2048000,
      "rowLimit": 10000
     },
     "inputWidgets": {},
     "nuid": "3bd1bbdb-9d6e-4c30-9983-b837d1d3b3cc",
     "showTitle": false,
     "title": ""
    }
   },
   "outputs": [],
   "source": [
    "file_location = \"/FileStore/tables/test_df-3.csv\"\n",
    "dbutils.fs.cp(\"/FileStore/tables/test_df-3.csv\", \"file:///tmp/test_df-3.csv\") \n",
    "\n",
    "# Read the CSV into a pandas DataFrame \n",
    "test_df = pd.read_csv(\"file:///tmp/test_df-3.csv\")\n"
   ]
  },
  {
   "cell_type": "code",
   "execution_count": 0,
   "metadata": {
    "application/vnd.databricks.v1+cell": {
     "cellMetadata": {
      "byteLimit": 2048000,
      "rowLimit": 10000
     },
     "inputWidgets": {},
     "nuid": "ccc3b33c-30d7-4f85-b948-99be400d7826",
     "showTitle": false,
     "title": ""
    }
   },
   "outputs": [],
   "source": [
    "def preprocess_data(df, country_categories, pca_model=None, kmeans_model=None, fit_pca=True, fit_kmeans=True):\n",
    "    # Validate presence of 'fullVisitorId'\n",
    "    if 'fullVisitorId' not in df.columns:\n",
    "        raise KeyError(\"DataFrame must include 'fullVisitorId' column.\")\n",
    "\n",
    "    # Calculate User Engagement Depth\n",
    "    df['UserEngagementDepth'] = df['TotalPageviews'] / df['TotalVisits']\n",
    "    df['UserEngagementDepth'].replace([float('inf'), -float('inf'), float('nan')], 0, inplace=True)\n",
    "    \n",
    "    # Standardize select features for clustering to improve performance\n",
    "    features_for_clustering = ['TotalPageviews', 'TotalVisits', 'UserEngagementDepth', 'desktop', 'mobile', 'tablet']\n",
    "    scaler = StandardScaler()\n",
    "    scaled_features = scaler.fit_transform(df[features_for_clustering])\n",
    "    \n",
    "    # Perform clustering\n",
    "    if fit_kmeans:\n",
    "        kmeans_model = KMeans(n_clusters=6, random_state=42)\n",
    "        clusters = kmeans_model.fit_predict(scaled_features)\n",
    "    else:\n",
    "        clusters = kmeans_model.predict(scaled_features)\n",
    "    df['ClusterLabel'] = clusters\n",
    "    # One-hot encode the cluster labels if necessary\n",
    "    cluster_dummies = pd.get_dummies(df['ClusterLabel'], prefix='Cluster', dtype='int64',drop_first=True)\n",
    "    df = pd.concat([df, cluster_dummies], axis=1)\n",
    "    df.drop('ClusterLabel', axis=1, inplace=True)\n",
    "\n",
    "    \n",
    "    # One-hot encode 'country' and reindex with all possible categories to ensure consistency\n",
    "    country_encoded = pd.get_dummies(df['country'], prefix='country')\n",
    "    country_encoded = country_encoded.reindex(columns=['country_' + c for c in country_categories], fill_value=0)\n",
    "    \n",
    "    if fit_pca:\n",
    "        pca_model = PCA(n_components=3)\n",
    "        country_pca = pca_model.fit_transform(country_encoded)\n",
    "    else:\n",
    "        country_pca = pca_model.transform(country_encoded)\n",
    "    \n",
    "    country_pca_df = pd.DataFrame(country_pca, columns=['country_PC1', 'country_PC2', 'country_PC3'])\n",
    "    \n",
    "    # Merge PCA data back, ensure 'fullVisitorId' is available for any needed operations\n",
    "    country_pca_df['fullVisitorId'] = df['fullVisitorId'].values\n",
    "    df = pd.merge(df, country_pca_df, on='fullVisitorId', how='inner')\n",
    "\n",
    "    df.drop(['fullVisitorId', 'country', 'TotalVisits', 'LastSessionPageviews', 'TotalPageviews'], axis=1, inplace=True)\n",
    "    \n",
    "    # Handle other categorical columns\n",
    "    cat_cols = df.select_dtypes(include='object').columns\n",
    "    df = pd.get_dummies(df, columns=cat_cols, drop_first=True, dtype='int64')\n",
    "    \n",
    "    X = df.drop('at_least_one_conversion', axis=1)\n",
    "    y = df['at_least_one_conversion']\n",
    "    \n",
    "    return X, y, pca_model, kmeans_model"
   ]
  },
  {
   "cell_type": "code",
   "execution_count": 0,
   "metadata": {
    "application/vnd.databricks.v1+cell": {
     "cellMetadata": {
      "byteLimit": 2048000,
      "rowLimit": 10000
     },
     "inputWidgets": {},
     "nuid": "da092d64-4e9f-4757-878a-8a60ac071a62",
     "showTitle": false,
     "title": ""
    }
   },
   "outputs": [],
   "source": [
    "df_train, df_val = train_test_split(df, test_size=0.15, random_state=42, stratify=df['at_least_one_conversion'])\n"
   ]
  },
  {
   "cell_type": "code",
   "execution_count": 0,
   "metadata": {
    "application/vnd.databricks.v1+cell": {
     "cellMetadata": {
      "byteLimit": 2048000,
      "rowLimit": 10000
     },
     "inputWidgets": {},
     "nuid": "a621615f-8d97-4bf8-a174-1be8798d1bd8",
     "showTitle": false,
     "title": ""
    }
   },
   "outputs": [
    {
     "output_type": "stream",
     "name": "stdout",
     "output_type": "stream",
     "text": [
      "Out[24]: fullVisitorId               object\nFirstChannelVisit           object\nLastChannelVisit            object\nat_least_one_conversion      int64\ncountry                     object\ncontinent                   object\nsubContinent                object\nTotalVisits                  int64\nTotalBounces                 int64\nOrganic Search               int64\nSocial                       int64\nDirect                       int64\nPaid Search                  int64\nReferral                     int64\nAffiliates                   int64\nDisplay                      int64\n(Other)                      int64\nTotalPageviews               int64\ndesktop                      int64\nmobile                       int64\ntablet                       int64\nFirstSessionPageviews        int64\nLastSessionPageviews         int64\nCampaignVisits               int64\nisTrueDirect                 int64\nAdContentVisits              int64\nSource_PC1                 float64\nSource_PC2                 float64\nSource_PC3                 float64\ndtype: object"
     ]
    }
   ],
   "source": [
    "df.dtypes"
   ]
  },
  {
   "cell_type": "code",
   "execution_count": 0,
   "metadata": {
    "application/vnd.databricks.v1+cell": {
     "cellMetadata": {
      "byteLimit": 2048000,
      "rowLimit": 10000
     },
     "inputWidgets": {},
     "nuid": "1f65f390-e576-465d-9e6c-a84fae9bb0b7",
     "showTitle": false,
     "title": ""
    }
   },
   "outputs": [],
   "source": [
    "country_categories = df['country'].unique().tolist()"
   ]
  },
  {
   "cell_type": "code",
   "execution_count": 0,
   "metadata": {
    "application/vnd.databricks.v1+cell": {
     "cellMetadata": {
      "byteLimit": 2048000,
      "rowLimit": 10000
     },
     "inputWidgets": {},
     "nuid": "66744677-5bfb-48b1-a331-6572d5adb567",
     "showTitle": false,
     "title": ""
    }
   },
   "outputs": [],
   "source": [
    "# Fit the models initially\n",
    "X_train, y_train, pca_train, kmeans_train = preprocess_data(df_train, country_categories, fit_pca=True, fit_kmeans=True)\n",
    "\n",
    "# Preprocess the validation data using the existing PCA and KMeans models\n",
    "X_val, y_val, _, _ = preprocess_data(df_val, country_categories, pca_model=pca_train, kmeans_model=kmeans_train, fit_pca=False, fit_kmeans=False)\n",
    "X_test, y_test, _, _ = preprocess_data(test_df, country_categories, pca_model=pca_train, kmeans_model=kmeans_train, fit_pca=False, fit_kmeans=False)"
   ]
  },
  {
   "cell_type": "code",
   "execution_count": 0,
   "metadata": {
    "application/vnd.databricks.v1+cell": {
     "cellMetadata": {
      "byteLimit": 2048000,
      "rowLimit": 10000
     },
     "inputWidgets": {},
     "nuid": "2895b936-6186-4458-8d2a-bdf5b9b2cc94",
     "showTitle": false,
     "title": ""
    }
   },
   "outputs": [],
   "source": [
    "def plot_roc_curve(fpr, tpr, roc_auc):\n",
    "    plt.title('Receiver Operating Characteristic')\n",
    "    plt.plot(fpr, tpr, 'b', label = 'AUC = %0.2f' % roc_auc)\n",
    "    plt.legend(loc = 'lower right')\n",
    "    plt.plot([0, 1], [0, 1],'r--')\n",
    "    plt.xlim([0, 1])\n",
    "    plt.ylim([0, 1])\n",
    "    plt.ylabel('True Positive Rate')\n",
    "    plt.xlabel('False Positive Rate')\n",
    "    plt.show()\n",
    "\n",
    "def plot_pr_curve(precision, recall, average_precision):\n",
    "    plt.step(recall, precision, color='b', alpha=0.2, where='post')\n",
    "    plt.fill_between(recall, precision, step='post', alpha=0.2, color='b')   \n",
    "    plt.xlabel('Recall')\n",
    "    plt.ylabel('Precision')\n",
    "    plt.ylim([0.0, 1.05])\n",
    "    plt.xlim([0.0, 1.0])\n",
    "    plt.title('2-class Precision-Recall curve: AP={0:0.2f}'.format(average_precision))\n",
    "    plt.show()\n",
    "\n",
    "from matplotlib.colors import ListedColormap\n",
    "def clf_score(clf, X_train, y_train, X_val, y_val, train=True):\n",
    "    if train:\n",
    "        predictions_train = clf.predict(X_train)\n",
    "        print(\"Train Result:\\n\")\n",
    "        print(f\"accuracy score: {accuracy_score(y_train, predictions_train):.4f}\\n\")\n",
    "        print(f\"Classification Report: \\n {classification_report(y_train, predictions_train)}\\n\")\n",
    "        print(f\"Confusion Matrix: \\n {confusion_matrix(y_train, predictions_train)}\\n\")\n",
    "\n",
    "        res = cross_val_score(clf, X_train, y_train, cv=10, scoring='accuracy')\n",
    "        print(f\"Average Accuracy: \\t {np.mean(res):.4f}\")\n",
    "        print(f\"Accuracy SD: \\t\\t {np.std(res):.4f}\")\n",
    "\n",
    "    else:\n",
    "        predictions_val = clf.predict(X_val)\n",
    "        probas_val = clf.predict_proba(X_val)[:, 1]  \n",
    "        precision, recall, _ = precision_recall_curve(y_val, probas_val)\n",
    "        average_precision = average_precision_score(y_val, probas_val)\n",
    "        plot_pr_curve(precision, recall, average_precision)\n",
    "\n",
    "        fpr, tpr, _ = roc_curve(y_val, probas_val)\n",
    "        roc_auc = roc_auc_score(y_val, probas_val)\n",
    "        print(f\"roc auc score: {roc_auc}\\n\")\n",
    "        plot_roc_curve(fpr, tpr, roc_auc)\n",
    "\n",
    "        print(f\"Classification Report: \\n {classification_report(y_val, predictions_val)}\\n\")\n",
    "        print(f\"Confusion Matrix: \\n {confusion_matrix(y_val, predictions_val)}\\n\")\n",
    "        ConfusionMatrixDisplay.from_estimator(clf, X_val, y_val).im_.set_cmap(ListedColormap(['#34a853', '#4285f4', '#fbbb07']))\n",
    "        plt.show()\n",
    "        print(\"End of validation Result\\n\")\n"
   ]
  },
  {
   "cell_type": "code",
   "execution_count": 0,
   "metadata": {
    "application/vnd.databricks.v1+cell": {
     "cellMetadata": {
      "byteLimit": 2048000,
      "rowLimit": 10000
     },
     "inputWidgets": {},
     "nuid": "3e88bbf9-4e6f-4baf-9c5f-ce2f2bad9887",
     "showTitle": false,
     "title": ""
    }
   },
   "outputs": [
    {
     "output_type": "display_data",
     "data": {
      "image/png": "[encoded data removed]"
     },
     "metadata": {
      "application/vnd.databricks.v1+output": {
       "addedWidgets": {},
       "arguments": {},
       "data": "data:image/png;base64,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\n",
       "datasetInfos": [],
       "metadata": {},
       "removedWidgets": [],
       "type": "image"
      }
     },
     "output_type": "display_data"
    },
    {
     "output_type": "stream",
     "name": "stdout",
     "output_type": "stream",
     "text": [
      "roc auc score: 0.9860656269345422\n\n"
     ]
    },
    {
     "output_type": "display_data",
     "data": {
      "image/png": "[encoded data removed]"
     },
     "metadata": {
      "application/vnd.databricks.v1+output": {
       "addedWidgets": {},
       "arguments": {},
       "data": "data:image/png;base64,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\n",
       "datasetInfos": [],
       "metadata": {},
       "removedWidgets": [],
       "type": "image"
      }
     },
     "output_type": "display_data"
    },
    {
     "output_type": "stream",
     "name": "stdout",
     "output_type": "stream",
     "text": [
      "Classification Report: \n               precision    recall  f1-score   support\n\n           0       1.00      0.93      0.96     84092\n           1       0.15      0.98      0.27      1114\n\n    accuracy                           0.93     85206\n   macro avg       0.58      0.96      0.62     85206\nweighted avg       0.99      0.93      0.95     85206\n\n\nConfusion Matrix: \n [[78103  5989]\n [   17  1097]]\n\n"
     ]
    },
    {
     "output_type": "display_data",
     "data": {
      "image/png": "[encoded data removed]"
     },
     "metadata": {
      "application/vnd.databricks.v1+output": {
       "addedWidgets": {},
       "arguments": {},
       "data": "data:image/png;base64,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\n",
       "datasetInfos": [],
       "metadata": {},
       "removedWidgets": [],
       "type": "image"
      }
     },
     "output_type": "display_data"
    },
    {
     "output_type": "stream",
     "name": "stdout",
     "output_type": "stream",
     "text": [
      "End of validation Result\n\n"
     ]
    }
   ],
   "source": [
    "rf_model=RandomForestClassifier(n_estimators=100,max_depth=5, random_state=42, class_weight='balanced')\n",
    "rf_model.fit(X_train, y_train)\n",
    "clf_score(rf_model, X_train, y_train, X_val, y_val, train=False)"
   ]
  },
  {
   "cell_type": "code",
   "execution_count": 0,
   "metadata": {
    "application/vnd.databricks.v1+cell": {
     "cellMetadata": {
      "byteLimit": 2048000,
      "rowLimit": 10000
     },
     "inputWidgets": {},
     "nuid": "4333e910-d552-42f4-9f51-2942faea80ad",
     "showTitle": false,
     "title": ""
    }
   },
   "outputs": [],
   "source": [
    "# getting the feature importance from the random forest model   \n",
    "feature_importances = pd.DataFrame(rf_model.feature_importances_, index = X_train.columns, columns=['importance']).sort_values('importance', ascending=False)\n",
    "# Using the top 20 features from the random forest model\n",
    "top_features = feature_importances.index[:20]\n",
    "X_train = X_train[top_features]\n",
    "X_val = X_val[top_features]\n",
    "X_test = X_test[top_features]\n"
   ]
  },
  {
   "cell_type": "code",
   "execution_count": 0,
   "metadata": {
    "application/vnd.databricks.v1+cell": {
     "cellMetadata": {
      "byteLimit": 2048000,
      "rowLimit": 10000
     },
     "inputWidgets": {},
     "nuid": "864263bc-4192-45b2-8d3a-e4e0152238a6",
     "showTitle": false,
     "title": ""
    }
   },
   "outputs": [],
   "source": [
    "# 1. Apply undersampling to the training set\n",
    "from imblearn.under_sampling import RandomUnderSampler\n",
    "\n",
    "rus = RandomUnderSampler(random_state=42)  # Set random_state for reproducibility\n",
    "X_train, y_train = rus.fit_resample(X_train, y_train)"
   ]
  },
  {
   "cell_type": "code",
   "execution_count": 0,
   "metadata": {
    "application/vnd.databricks.v1+cell": {
     "cellMetadata": {
      "byteLimit": 2048000,
      "rowLimit": 10000
     },
     "inputWidgets": {},
     "nuid": "dc89a9ee-a770-4eae-b13f-07955f63806d",
     "showTitle": false,
     "title": ""
    }
   },
   "outputs": [
    {
     "output_type": "stream",
     "name": "stderr",
     "output_type": "stream",
     "text": [
      "[I 2024-04-25 02:24:18,258] A new study created in memory with name: no-name-139b24b3-c03e-49b8-a9c3-092a7f72145a\n[I 2024-04-25 02:24:24,618] Trial 0 finished with value: 0.34929850024189646 and parameters: {'n_estimators': 1541, 'max_depth': 9, 'learning_rate': 0.01299799673428035, 'subsample': 0.8813464067112278, 'colsample_bytree': 0.8607594373937371, 'min_child_weight': 2, 'gamma': 0.5205195481981983, 'reg_lambda': 8.94954010183955e-06, 'reg_alpha': 5.31598473042347e-06, 'threshold': 0.6774163519805237}. Best is trial 0 with value: 0.34929850024189646.\n[I 2024-04-25 02:24:26,736] Trial 1 finished with value: 0.20946529711049247 and parameters: {'n_estimators': 1621, 'max_depth': 10, 'learning_rate': 0.013323313987105321, 'subsample': 0.5025763242986288, 'colsample_bytree': 0.7605127736997741, 'min_child_weight': 249, 'gamma': 0.21472904165825096, 'reg_lambda': 0.06699547045011353, 'reg_alpha': 5.784730359520172e-06, 'threshold': 0.39421535334727253}. Best is trial 0 with value: 0.34929850024189646.\n[I 2024-04-25 02:24:27,848] Trial 2 finished with value: 0.2805052741242349 and parameters: {'n_estimators': 737, 'max_depth': 5, 'learning_rate': 0.11738179396078695, 'subsample': 0.8317181392746936, 'colsample_bytree': 0.6607623715276161, 'min_child_weight': 265, 'gamma': 0.8136955580899287, 'reg_lambda': 2.1337762914237717e-06, 'reg_alpha': 0.003431631483392629, 'threshold': 0.5661830232630021}. Best is trial 0 with value: 0.34929850024189646.\n[I 2024-04-25 02:24:30,556] Trial 3 finished with value: 0.37340521114106023 and parameters: {'n_estimators': 1569, 'max_depth': 6, 'learning_rate': 0.01071415471870377, 'subsample': 0.9289217519712467, 'colsample_bytree': 0.8773408210090985, 'min_child_weight': 210, 'gamma': 0.13474865471554157, 'reg_lambda': 0.04776918199209828, 'reg_alpha': 0.025758475440305774, 'threshold': 0.7551991997097226}. Best is trial 3 with value: 0.37340521114106023.\n[I 2024-04-25 02:24:33,563] Trial 4 finished with value: 0.3509848240232483 and parameters: {'n_estimators': 868, 'max_depth': 8, 'learning_rate': 0.01631637925951753, 'subsample': 0.7588649039390676, 'colsample_bytree': 0.8627264105476028, 'min_child_weight': 23, 'gamma': 0.9811809687484273, 'reg_lambda': 0.002654445848825188, 'reg_alpha': 3.266020672943974e-05, 'threshold': 0.6430006785451534}. Best is trial 3 with value: 0.37340521114106023.\n[I 2024-04-25 02:24:34,770] Trial 5 finished with value: 0.2820712984647411 and parameters: {'n_estimators': 790, 'max_depth': 10, 'learning_rate': 0.18854821830201962, 'subsample': 0.8564043927807217, 'colsample_bytree': 0.6667185970322483, 'min_child_weight': 211, 'gamma': 0.5571366322370596, 'reg_lambda': 0.02542704115433856, 'reg_alpha': 0.00019680668147023758, 'threshold': 0.509974695609101}. Best is trial 3 with value: 0.37340521114106023.\n[I 2024-04-25 02:24:37,641] Trial 6 finished with value: 0.2383374824115164 and parameters: {'n_estimators': 1738, 'max_depth': 5, 'learning_rate': 0.027907038249396852, 'subsample': 0.9639602095918309, 'colsample_bytree': 0.9749565580523782, 'min_child_weight': 278, 'gamma': 0.13047067657665742, 'reg_lambda': 0.18419460301055657, 'reg_alpha': 2.0092077842429198e-06, 'threshold': 0.314720877104838}. Best is trial 3 with value: 0.37340521114106023.\n[I 2024-04-25 02:24:39,900] Trial 7 finished with value: 0.16364177328176138 and parameters: {'n_estimators': 1930, 'max_depth': 5, 'learning_rate': 0.15903594511899993, 'subsample': 0.5117238938925421, 'colsample_bytree': 0.89922298438382, 'min_child_weight': 295, 'gamma': 0.42965391002372927, 'reg_lambda': 8.802369201155198e-08, 'reg_alpha': 1.1171709704967654e-06, 'threshold': 0.24397175658765333}. Best is trial 3 with value: 0.37340521114106023.\n[I 2024-04-25 02:24:41,988] Trial 8 finished with value: 0.4002315708220764 and parameters: {'n_estimators': 826, 'max_depth': 3, 'learning_rate': 0.10718328368965134, 'subsample': 0.7315665663581923, 'colsample_bytree': 0.7539581284169994, 'min_child_weight': 7, 'gamma': 0.5882854899687197, 'reg_lambda': 0.00016946291739517244, 'reg_alpha': 4.61477531730489e-07, 'threshold': 0.845834860642761}. Best is trial 8 with value: 0.4002315708220764.\n[I 2024-04-25 02:24:43,782] Trial 9 finished with value: 0.26629647513278604 and parameters: {'n_estimators': 972, 'max_depth': 6, 'learning_rate': 0.025055395901437964, 'subsample': 0.8534334401300014, 'colsample_bytree': 0.8197246840748831, 'min_child_weight': 100, 'gamma': 0.4792963707668867, 'reg_lambda': 1.1308755303769674e-05, 'reg_alpha': 8.766759306359678, 'threshold': 0.3110212847963981}. Best is trial 8 with value: 0.4002315708220764.\n[I 2024-04-25 02:24:44,843] Trial 10 finished with value: 0.4637537239324727 and parameters: {'n_estimators': 507, 'max_depth': 3, 'learning_rate': 0.07308469524423895, 'subsample': 0.6356296512593975, 'colsample_bytree': 0.511226938145436, 'min_child_weight': 83, 'gamma': 0.2663655950369916, 'reg_lambda': 7.947367233981745, 'reg_alpha': 1.0279555818770408e-08, 'threshold': 0.8888360862917088}. Best is trial 10 with value: 0.4637537239324727.\n[I 2024-04-25 02:24:45,995] Trial 11 finished with value: 0.4699619771863118 and parameters: {'n_estimators': 516, 'max_depth': 3, 'learning_rate': 0.07364553735971711, 'subsample': 0.6352838553162072, 'colsample_bytree': 0.5433140209525176, 'min_child_weight': 86, 'gamma': 0.25492512462878136, 'reg_lambda': 5.548098045138433, 'reg_alpha': 1.975064681162427e-08, 'threshold': 0.8936719586181411}. Best is trial 11 with value: 0.4699619771863118.\n[I 2024-04-25 02:24:48,518] Trial 12 finished with value: 0.4553934465438891 and parameters: {'n_estimators': 1201, 'max_depth': 3, 'learning_rate': 0.06234032814122933, 'subsample': 0.6276710125849432, 'colsample_bytree': 0.5073838098430917, 'min_child_weight': 98, 'gamma': 0.24947810645663715, 'reg_lambda': 6.813075622698024, 'reg_alpha': 4.5961229550692555e-08, 'threshold': 0.8825477091094186}. Best is trial 11 with value: 0.4699619771863118.\n[I 2024-04-25 02:24:49,605] Trial 13 finished with value: 0.3897017966290054 and parameters: {'n_estimators': 524, 'max_depth': 3, 'learning_rate': 0.06044648583999987, 'subsample': 0.6287484637328109, 'colsample_bytree': 0.5358791185900493, 'min_child_weight': 84, 'gamma': 0.29410695143593935, 'reg_lambda': 5.821912349295285, 'reg_alpha': 1.2094711863073029e-08, 'threshold': 0.751166778199811}. Best is trial 11 with value: 0.4699619771863118.\n[I 2024-04-25 02:24:50,618] Trial 14 finished with value: 0.17073170731707316 and parameters: {'n_estimators': 509, 'max_depth': 4, 'learning_rate': 0.07150096073835495, 'subsample': 0.6061674414225614, 'colsample_bytree': 0.5879183007158191, 'min_child_weight': 151, 'gamma': 0.18459102379145972, 'reg_lambda': 1.2360983945197443, 'reg_alpha': 6.64970842940763e-08, 'threshold': 0.1108641823587273}. Best is trial 11 with value: 0.4699619771863118.\n[I 2024-04-25 02:24:53,244] Trial 15 finished with value: 0.4544812985179958 and parameters: {'n_estimators': 1138, 'max_depth': 4, 'learning_rate': 0.03814059090532401, 'subsample': 0.6998699303744161, 'colsample_bytree': 0.5957062334432784, 'min_child_weight': 61, 'gamma': 0.33440629404848965, 'reg_lambda': 0.0010697661061711981, 'reg_alpha': 1.1101081138743633e-08, 'threshold': 0.8810568914669812}. Best is trial 11 with value: 0.4699619771863118.\n[I 2024-04-25 02:24:54,414] Trial 16 finished with value: 0.3800588668138337 and parameters: {'n_estimators': 614, 'max_depth': 7, 'learning_rate': 0.09176494050728545, 'subsample': 0.5630809665196742, 'colsample_bytree': 0.6528246804231574, 'min_child_weight': 143, 'gamma': 0.16744654714318738, 'reg_lambda': 0.7993493564317885, 'reg_alpha': 1.7410980972886336e-07, 'threshold': 0.7902743005747268}. Best is trial 11 with value: 0.4699619771863118.\n[I 2024-04-25 02:24:56,287] Trial 17 finished with value: 0.3506813331144311 and parameters: {'n_estimators': 1035, 'max_depth': 4, 'learning_rate': 0.04298305738798448, 'subsample': 0.6790322033796716, 'colsample_bytree': 0.5748932602699057, 'min_child_weight': 134, 'gamma': 0.10033884529198178, 'reg_lambda': 0.00620724192637377, 'reg_alpha': 0.40595292651746345, 'threshold': 0.674952988361202}. Best is trial 11 with value: 0.4699619771863118.\n[I 2024-04-25 02:24:59,495] Trial 18 finished with value: 0.33009413908290314 and parameters: {'n_estimators': 1378, 'max_depth': 3, 'learning_rate': 0.0822016780997152, 'subsample': 0.7819189046891821, 'colsample_bytree': 0.5035991160125984, 'min_child_weight': 50, 'gamma': 0.3493609459608852, 'reg_lambda': 0.6425636304214783, 'reg_alpha': 0.00032238501045887775, 'threshold': 0.5762854210993995}. Best is trial 11 with value: 0.4699619771863118.\n[I 2024-04-25 02:25:00,698] Trial 19 finished with value: 0.404104183109708 and parameters: {'n_estimators': 665, 'max_depth': 7, 'learning_rate': 0.1356848307587092, 'subsample': 0.6667386110277271, 'colsample_bytree': 0.6956436962621231, 'min_child_weight': 126, 'gamma': 0.25188656523201086, 'reg_lambda': 1.8195753824445742e-08, 'reg_alpha': 3.916241231923735e-05, 'threshold': 0.7935286441452727}. Best is trial 11 with value: 0.4699619771863118.\n2024/04/25 02:25:05 WARNING mlflow.models.model: Model logged without a signature. Signatures will be required for upcoming model registry features as they validate model inputs and denote the expected schema of model outputs. Please visit https://www.mlflow.org/docs/2.12.1/models.html#set-signature-on-logged-model for instructions on setting a model signature on your logged model.\n"
     ]
    },
    {
     "output_type": "display_data",
     "data": {
      "application/vnd.jupyter.widget-view+json": {
       "model_id": "926f1cc2e7a44eefb68f7d33e0b9ec62",
       "version_major": 2,
       "version_minor": 0
      },
      "text/plain": [
       "Uploading artifacts:   0%|          | 0/9 [00:00<?, ?it/s]"
      ]
     },
     "metadata": {},
     "output_type": "display_data"
    }
   ],
   "source": [
    "import mlflow\n",
    "import numpy as np\n",
    "import pandas as pd\n",
    "import xgboost as xgb\n",
    "from sklearn.metrics import precision_score, recall_score, f1_score, accuracy_score, roc_auc_score\n",
    "import optuna\n",
    "import json \n",
    "\n",
    "# Set the experiment name correctly\n",
    "mlflow.set_experiment('/Users/tashfeenahmad12@gmail.com/classification')\n",
    "def objective(trial):\n",
    "    # Define hyperparameters\n",
    "    params = {\n",
    "        'n_estimators': trial.suggest_int('n_estimators', 500, 2000),\n",
    "        'max_depth': trial.suggest_int('max_depth', 3, 10),\n",
    "        'learning_rate': trial.suggest_loguniform('learning_rate', 0.01, 0.2),\n",
    "        'subsample': trial.suggest_uniform('subsample', 0.5, 1.0),\n",
    "        'colsample_bytree': trial.suggest_uniform('colsample_bytree', 0.5, 1.0),\n",
    "        'min_child_weight': trial.suggest_int('min_child_weight', 1, 300),\n",
    "        'gamma': trial.suggest_loguniform('gamma', 0.1, 1.0),\n",
    "        'reg_lambda': trial.suggest_loguniform('reg_lambda', 1e-8, 10.0),\n",
    "        'reg_alpha': trial.suggest_loguniform('reg_alpha', 1e-8, 10.0)\n",
    "    }\n",
    "    threshold = trial.suggest_uniform('threshold', 0.1, 0.9)\n",
    "\n",
    "    model = xgb.XGBClassifier(**params, use_label_encoder=False, eval_metric='logloss', random_state=42)\n",
    "    model.fit(X_train, y_train)\n",
    "    probabilities = model.predict_proba(X_val)[:, 1]\n",
    "    predictions = (probabilities >= threshold).astype(int)\n",
    "    f1_score_val = f1_score(y_val, predictions)\n",
    "\n",
    "    return f1_score_val\n",
    "\n",
    "def log_best_model(trial, model):\n",
    "    with mlflow.start_run(run_name=\"XGBoost Model with threshold\"):\n",
    "        mlflow.log_params(trial.params)\n",
    "        # 1. Dataset Metadata (Illustrative example)\n",
    "        dataset_metadata = {\n",
    "            'source': 'https://www.kaggle.com/competitions/ga-customer-revenue-prediction/data?select=train_v2.csv',\n",
    "            'features': list(X_train.columns), \n",
    "            'preprocessing': 'Scaling, one-hot encoding, SMOTEENN', \n",
    "            'target_variable': 'at_least_one_conversion'\n",
    "        }\n",
    "        mlflow.log_text(json.dumps(dataset_metadata), \"dataset_metadata.json\") \n",
    "\n",
    "        # 2. Save and log model\n",
    "        mlflow.xgboost.log_model(model, \"xgboost_model\")\n",
    "        \n",
    "        # Evaluate and log metrics on train, validation, and test sets\n",
    "        evaluate_and_log_metrics(model, trial.params['threshold'])\n",
    "\n",
    "def evaluate_and_log_metrics(model, threshold):\n",
    "    datasets = {'train': (X_train, y_train), 'val': (X_val, y_val), 'test': (X_test, y_test)}\n",
    "    for key, (X, y) in datasets.items():\n",
    "        probs = model.predict_proba(X)[:, 1]\n",
    "        predictions = (probs >= threshold).astype(int)\n",
    "        metrics = {\n",
    "            f'{key}_accuracy': accuracy_score(y, predictions),\n",
    "            f'{key}_precision': precision_score(y, predictions),\n",
    "            f'{key}_recall': recall_score(y, predictions),\n",
    "            f'{key}_f1': f1_score(y, predictions),\n",
    "            f'{key}_roc_auc': roc_auc_score(y, probs)\n",
    "        }\n",
    "        mlflow.log_metrics(metrics)\n",
    "\n",
    "# Create and optimize an Optuna study\n",
    "study = optuna.create_study(direction='maximize')\n",
    "study.optimize(objective, n_trials=20)\n",
    "\n",
    "best_trial = study.best_trial\n",
    "best_model = xgb.XGBClassifier(**{k: v for k, v in best_trial.params.items() if k != 'threshold'}, use_label_encoder=False, eval_metric='logloss', random_state=42)\n",
    "best_model.fit(X_train, y_train)\n",
    "log_best_model(best_trial, best_model)\n"
   ]
  },
  {
   "cell_type": "code",
   "execution_count": 0,
   "metadata": {
    "application/vnd.databricks.v1+cell": {
     "cellMetadata": {
      "byteLimit": 2048000,
      "rowLimit": 10000
     },
     "inputWidgets": {},
     "nuid": "9b61a11a-43e2-41ac-b227-c4610030185b",
     "showTitle": true,
     "title": " Load and Deploy the ML Model from MLflow"
    }
   },
   "outputs": [
    {
     "output_type": "display_data",
     "data": {
      "application/vnd.jupyter.widget-view+json": {
       "model_id": "ed84bdd11dbb4753b5c54bc6e17b338e",
       "version_major": 2,
       "version_minor": 0
      },
      "text/plain": [
       "Downloading artifacts:   0%|          | 0/9 [00:00<?, ?it/s]"
      ]
     },
     "metadata": {},
     "output_type": "display_data"
    }
   ],
   "source": [
    "import mlflow\n",
    "logged_model = 'runs:/c82ac616b1134cd98adf48576111ce39/xgboost_model'\n",
    "\n",
    "# Load model as a PyFuncModel.\n",
    "loaded_model = mlflow.pyfunc.load_model(logged_model)\n",
    "\n",
    "# Predict on a Pandas DataFrame.\n",
    "import pandas as pd\n",
    "loaded_predictions=loaded_model.predict(X_test)"
   ]
  },
  {
   "cell_type": "code",
   "execution_count": 0,
   "metadata": {
    "application/vnd.databricks.v1+cell": {
     "cellMetadata": {
      "byteLimit": 2048000,
      "rowLimit": 10000
     },
     "inputWidgets": {},
     "nuid": "86f07fea-031a-4114-bef6-49b787ef5f61",
     "showTitle": false,
     "title": ""
    }
   },
   "outputs": [
    {
     "output_type": "stream",
     "name": "stdout",
     "output_type": "stream",
     "text": [
      "Out[100]: 0.36443867618429593"
     ]
    }
   ],
   "source": [
    "f1_score(y_test,loaded_predictions)"
   ]
  },
  {
   "cell_type": "code",
   "execution_count": 0,
   "metadata": {
    "application/vnd.databricks.v1+cell": {
     "cellMetadata": {
      "byteLimit": 2048000,
      "rowLimit": 10000
     },
     "inputWidgets": {},
     "nuid": "b8a1f632-db75-420b-a086-3f1be533ffa4",
     "showTitle": false,
     "title": ""
    }
   },
   "outputs": [
    {
     "output_type": "stream",
     "name": "stdout",
     "output_type": "stream",
     "text": [
      "Out[103]: pandas.core.frame.DataFrame"
     ]
    }
   ],
   "source": [
    "type(X_test)"
   ]
  },
  {
   "cell_type": "code",
   "execution_count": 0,
   "metadata": {
    "application/vnd.databricks.v1+cell": {
     "cellMetadata": {
      "byteLimit": 2048000,
      "rowLimit": 10000
     },
     "inputWidgets": {},
     "nuid": "98dcb2e1-3797-4a9b-9d7f-a48f43930ffd",
     "showTitle": false,
     "title": ""
    }
   },
   "outputs": [],
   "source": [
    "loaded_predictions_df = pd.DataFrame(loaded_predictions,columns = [\"predictions\"])\n",
    "\n",
    "X_test_spark = pd.concat([X_test, loaded_predictions_df,y_test], axis=1)\n"
   ]
  },
  {
   "cell_type": "code",
   "execution_count": 0,
   "metadata": {
    "application/vnd.databricks.v1+cell": {
     "cellMetadata": {
      "byteLimit": 2048000,
      "rowLimit": 10000
     },
     "inputWidgets": {},
     "nuid": "25d35806-9b66-46eb-bad9-53067e240df3",
     "showTitle": false,
     "title": ""
    }
   },
   "outputs": [
    {
     "output_type": "display_data",
     "data": {
      "text/html": [
       "<div>\n",
       "<style scoped>\n",
       "    .dataframe tbody tr th:only-of-type {\n",
       "        vertical-align: middle;\n",
       "    }\n",
       "\n",
       "    .dataframe tbody tr th {\n",
       "        vertical-align: top;\n",
       "    }\n",
       "\n",
       "    .dataframe thead th {\n",
       "        text-align: right;\n",
       "    }\n",
       "</style>\n",
       "<table border=\"1\" class=\"dataframe\">\n",
       "  <thead>\n",
       "    <tr style=\"text-align: right;\">\n",
       "      <th></th>\n",
       "      <th>UserEngagementDepth</th>\n",
       "      <th>country_PC1</th>\n",
       "      <th>Cluster_5</th>\n",
       "      <th>FirstSessionPageviews</th>\n",
       "      <th>country_PC2</th>\n",
       "      <th>desktop</th>\n",
       "      <th>continent_Americas</th>\n",
       "      <th>isTrueDirect</th>\n",
       "      <th>country_PC3</th>\n",
       "      <th>subContinent_Northern America</th>\n",
       "      <th>...</th>\n",
       "      <th>FirstChannelVisit_Social</th>\n",
       "      <th>Cluster_1</th>\n",
       "      <th>Referral</th>\n",
       "      <th>Source_PC1</th>\n",
       "      <th>LastChannelVisit_Social</th>\n",
       "      <th>LastChannelVisit_Referral</th>\n",
       "      <th>TotalBounces</th>\n",
       "      <th>Organic Search</th>\n",
       "      <th>predictions</th>\n",
       "      <th>at_least_one_conversion</th>\n",
       "    </tr>\n",
       "  </thead>\n",
       "  <tbody>\n",
       "    <tr>\n",
       "      <th>0</th>\n",
       "      <td>2.0</td>\n",
       "      <td>-0.372973</td>\n",
       "      <td>0</td>\n",
       "      <td>2</td>\n",
       "      <td>-0.20258</td>\n",
       "      <td>1</td>\n",
       "      <td>0</td>\n",
       "      <td>0</td>\n",
       "      <td>0.76974</td>\n",
       "      <td>0</td>\n",
       "      <td>...</td>\n",
       "      <td>0</td>\n",
       "      <td>0</td>\n",
       "      <td>0</td>\n",
       "      <td>0.569687</td>\n",
       "      <td>0</td>\n",
       "      <td>0</td>\n",
       "      <td>0</td>\n",
       "      <td>1</td>\n",
       "      <td>0</td>\n",
       "      <td>0</td>\n",
       "    </tr>\n",
       "  </tbody>\n",
       "</table>\n",
       "<p>1 rows × 22 columns</p>\n",
       "</div>"
      ]
     },
     "metadata": {
      "application/vnd.databricks.v1+output": {
       "addedWidgets": {},
       "arguments": {},
       "data": "<div>\n<style scoped>\n    .dataframe tbody tr th:only-of-type {\n        vertical-align: middle;\n    }\n\n    .dataframe tbody tr th {\n        vertical-align: top;\n    }\n\n    .dataframe thead th {\n        text-align: right;\n    }\n</style>\n<table border=\"1\" class=\"dataframe\">\n  <thead>\n    <tr style=\"text-align: right;\">\n      <th></th>\n      <th>UserEngagementDepth</th>\n      <th>country_PC1</th>\n      <th>Cluster_5</th>\n      <th>FirstSessionPageviews</th>\n      <th>country_PC2</th>\n      <th>desktop</th>\n      <th>continent_Americas</th>\n      <th>isTrueDirect</th>\n      <th>country_PC3</th>\n      <th>subContinent_Northern America</th>\n      <th>...</th>\n      <th>FirstChannelVisit_Social</th>\n      <th>Cluster_1</th>\n      <th>Referral</th>\n      <th>Source_PC1</th>\n      <th>LastChannelVisit_Social</th>\n      <th>LastChannelVisit_Referral</th>\n      <th>TotalBounces</th>\n      <th>Organic Search</th>\n      <th>predictions</th>\n      <th>at_least_one_conversion</th>\n    </tr>\n  </thead>\n  <tbody>\n    <tr>\n      <th>0</th>\n      <td>2.0</td>\n      <td>-0.372973</td>\n      <td>0</td>\n      <td>2</td>\n      <td>-0.20258</td>\n      <td>1</td>\n      <td>0</td>\n      <td>0</td>\n      <td>0.76974</td>\n      <td>0</td>\n      <td>...</td>\n      <td>0</td>\n      <td>0</td>\n      <td>0</td>\n      <td>0.569687</td>\n      <td>0</td>\n      <td>0</td>\n      <td>0</td>\n      <td>1</td>\n      <td>0</td>\n      <td>0</td>\n    </tr>\n  </tbody>\n</table>\n<p>1 rows × 22 columns</p>\n</div>",
       "datasetInfos": [],
       "metadata": {},
       "removedWidgets": [],
       "textData": null,
       "type": "htmlSandbox"
      }
     },
     "output_type": "display_data"
    }
   ],
   "source": [
    "X_test_spark.head(1)"
   ]
  },
  {
   "cell_type": "code",
   "execution_count": 0,
   "metadata": {
    "application/vnd.databricks.v1+cell": {
     "cellMetadata": {
      "byteLimit": 2048000,
      "rowLimit": 10000
     },
     "inputWidgets": {},
     "nuid": "c2e6a5b3-9e7a-47fd-8c74-0552f7c559a1",
     "showTitle": true,
     "title": "Batch Stream to Confluent Cloud"
    }
   },
   "outputs": [],
   "source": [
    "X_test_spark = spark.createDataFrame(X_test_spark)\n",
    "X_test_spark = X_test_spark.limit(15)\n",
    "\n"
   ]
  },
  {
   "cell_type": "code",
   "execution_count": 0,
   "metadata": {
    "application/vnd.databricks.v1+cell": {
     "cellMetadata": {
      "byteLimit": 2048000,
      "rowLimit": 10000
     },
     "inputWidgets": {},
     "nuid": "a75187d2-525a-4586-be24-44254a62c0de",
     "showTitle": false,
     "title": ""
    }
   },
   "outputs": [],
   "source": [
    "from pyspark.sql import SparkSession\n",
    "from pyspark.sql.functions import monotonically_increasing_id, to_json, struct, col\n",
    "\n",
    "# Initialize Spark Session\n",
    "spark = SparkSession.builder \\\n",
    "    .appName(\"KafkaDataWrite\") \\\n",
    "    .getOrCreate()\n",
    "\n",
    "# Assume X_test_spark is already loaded as a Spark DataFrame\n",
    "X_test_spark = X_test_spark.withColumn(\"key\", monotonically_increasing_id())\n",
    "X_test_spark = X_test_spark.withColumn(\"value\", to_json(struct([col(c) for c in X_test_spark.columns if c != 'key'])))\n",
    "\n",
    "# Prepare data for Kafka\n",
    "kafka_ready_df = X_test_spark.selectExpr(\"CAST(key AS STRING) AS key\", \"CAST(value AS STRING) AS value\")\n",
    "\n",
    "# Write to Kafka\n",
    "api_key = \"AO355DNAQ4YOSZUR\"\n",
    "api_secret = \"Jts1hjQ91q1wes/lo6AN/J4sRorMMvebAxTM7Oo37IkPOin3F55AHUwZhOE02693\"\n",
    "bootstrap_servers = \"pkc-56d1g.eastus.azure.confluent.cloud:9092\"\n",
    "topic_name = \"eds_streaming\"\n",
    "\n",
    "kafka_ready_df.write.format(\"kafka\") \\\n",
    "    .option(\"kafka.bootstrap.servers\", bootstrap_servers) \\\n",
    "    .option(\"topic\", topic_name) \\\n",
    "    .option(\"kafka.security.protocol\", \"SASL_SSL\") \\\n",
    "    .option(\"kafka.sasl.mechanism\", \"PLAIN\") \\\n",
    "    .option(\"kafka.sasl.jaas.config\", f\"kafkashaded.org.apache.kafka.common.security.plain.PlainLoginModule required username='{api_key}' password='{api_secret}';\") \\\n",
    "    .save()\n"
   ]
  },
  {
   "cell_type": "code",
   "execution_count": 0,
   "metadata": {
    "application/vnd.databricks.v1+cell": {
     "cellMetadata": {},
     "inputWidgets": {},
     "nuid": "2cd745b1-239e-4fb3-a06b-22d2ca72bd8b",
     "showTitle": false,
     "title": ""
    }
   },
   "outputs": [],
   "source": []
  }
 ],
 "metadata": {
  "application/vnd.databricks.v1+notebook": {
   "dashboards": [],
   "language": "python",
   "notebookMetadata": {
    "mostRecentlyExecutedCommandWithImplicitDF": {
     "commandId": 598071953061890,
     "dataframes": [
      "_sqldf"
     ]
    },
    "pythonIndentUnit": 4
   },
   "notebookName": "eds group project",
   "widgets": {}
  }
 },
 "nbformat": 4,
 "nbformat_minor": 0
}
